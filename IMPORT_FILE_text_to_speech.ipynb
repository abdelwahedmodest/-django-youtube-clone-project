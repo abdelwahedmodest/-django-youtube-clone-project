{
  "nbformat": 4,
  "nbformat_minor": 0,
  "metadata": {
    "colab": {
      "provenance": [],
      "authorship_tag": "ABX9TyNttKZyaIqNlmtFBDQUQXfW",
      "include_colab_link": true
    },
    "kernelspec": {
      "name": "python3",
      "display_name": "Python 3"
    },
    "language_info": {
      "name": "python"
    }
  },
  "cells": [
    {
      "cell_type": "markdown",
      "metadata": {
        "id": "view-in-github",
        "colab_type": "text"
      },
      "source": [
        "<a href=\"https://colab.research.google.com/github/abdelwahedmodest/-django-youtube-clone-project/blob/master/IMPORT_FILE_text_to_speech.ipynb\" target=\"_parent\"><img src=\"https://colab.research.google.com/assets/colab-badge.svg\" alt=\"Open In Colab\"/></a>"
      ]
    },
    {
      "cell_type": "code",
      "execution_count": 3,
      "metadata": {
        "colab": {
          "base_uri": "https://localhost:8080/"
        },
        "id": "cSNH1PUehFSk",
        "outputId": "bcce439b-7d32-435f-e918-bfbdb00853fc"
      },
      "outputs": [
        {
          "output_type": "stream",
          "name": "stdout",
          "text": [
            "Collecting gTTS\n",
            "  Downloading gTTS-2.5.0-py3-none-any.whl (29 kB)\n",
            "Requirement already satisfied: requests<3,>=2.27 in /usr/local/lib/python3.10/dist-packages (from gTTS) (2.31.0)\n",
            "Requirement already satisfied: click<8.2,>=7.1 in /usr/local/lib/python3.10/dist-packages (from gTTS) (8.1.7)\n",
            "Requirement already satisfied: charset-normalizer<4,>=2 in /usr/local/lib/python3.10/dist-packages (from requests<3,>=2.27->gTTS) (3.3.2)\n",
            "Requirement already satisfied: idna<4,>=2.5 in /usr/local/lib/python3.10/dist-packages (from requests<3,>=2.27->gTTS) (3.6)\n",
            "Requirement already satisfied: urllib3<3,>=1.21.1 in /usr/local/lib/python3.10/dist-packages (from requests<3,>=2.27->gTTS) (2.0.7)\n",
            "Requirement already satisfied: certifi>=2017.4.17 in /usr/local/lib/python3.10/dist-packages (from requests<3,>=2.27->gTTS) (2023.11.17)\n",
            "Installing collected packages: gTTS\n",
            "Successfully installed gTTS-2.5.0\n"
          ]
        }
      ],
      "source": [
        "!pip   install   gTTS"
      ]
    },
    {
      "cell_type": "code",
      "source": [
        "from gtts import gTTS"
      ],
      "metadata": {
        "id": "jMC7U7pUB3Lk"
      },
      "execution_count": 4,
      "outputs": []
    },
    {
      "cell_type": "code",
      "source": [
        "# Chemin vers le fichier texte que vous souhaitez convertir en parole\n",
        "chemin_fichier_texte = \"/content/Django_Page12.txt\"\n",
        "#/content/test.txt\n",
        "# Lire le contenu du fichier texte\n",
        "with open(chemin_fichier_texte, \"r\", encoding=\"utf-8\") as file:\n",
        "    contenu_texte = file.read()\n",
        "\n",
        "# Langue pour la synthèse vocale (par exemple, \"fr\" pour le français)\n",
        "langue = \"fr\"\n",
        "\n",
        "# Créer l'objet gTTS avec le contenu du fichier texte\n",
        "gtts_object = gTTS(text=contenu_texte, lang=langue, slow=False)\n",
        "\n",
        "# Sauvegarder le fichier audio\n",
        "gtts_object.save(\"/content/gtts_output.wav\")"
      ],
      "metadata": {
        "id": "R2PEe-yaBhhe"
      },
      "execution_count": 5,
      "outputs": []
    }
  ]
}