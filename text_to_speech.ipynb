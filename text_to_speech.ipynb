{
  "nbformat": 4,
  "nbformat_minor": 0,
  "metadata": {
    "colab": {
      "provenance": [],
      "authorship_tag": "ABX9TyNp8Hi+zTI9q4v+iCbnLZsU",
      "include_colab_link": true
    },
    "kernelspec": {
      "name": "python3",
      "display_name": "Python 3"
    },
    "language_info": {
      "name": "python"
    }
  },
  "cells": [
    {
      "cell_type": "markdown",
      "metadata": {
        "id": "view-in-github",
        "colab_type": "text"
      },
      "source": [
        "<a href=\"https://colab.research.google.com/github/abdelwahedmodest/-django-youtube-clone-project/blob/master/text_to_speech.ipynb\" target=\"_parent\"><img src=\"https://colab.research.google.com/assets/colab-badge.svg\" alt=\"Open In Colab\"/></a>"
      ]
    },
    {
      "cell_type": "code",
      "execution_count": null,
      "metadata": {
        "colab": {
          "base_uri": "https://localhost:8080/"
        },
        "id": "cSNH1PUehFSk",
        "outputId": "6c8c6526-4d3a-4e45-f9d7-dad262c5c99f"
      },
      "outputs": [
        {
          "output_type": "stream",
          "name": "stdout",
          "text": [
            "Requirement already satisfied: gTTS in /usr/local/lib/python3.10/dist-packages (2.5.0)\n",
            "Requirement already satisfied: requests<3,>=2.27 in /usr/local/lib/python3.10/dist-packages (from gTTS) (2.31.0)\n",
            "Requirement already satisfied: click<8.2,>=7.1 in /usr/local/lib/python3.10/dist-packages (from gTTS) (8.1.7)\n",
            "Requirement already satisfied: charset-normalizer<4,>=2 in /usr/local/lib/python3.10/dist-packages (from requests<3,>=2.27->gTTS) (3.3.2)\n",
            "Requirement already satisfied: idna<4,>=2.5 in /usr/local/lib/python3.10/dist-packages (from requests<3,>=2.27->gTTS) (3.6)\n",
            "Requirement already satisfied: urllib3<3,>=1.21.1 in /usr/local/lib/python3.10/dist-packages (from requests<3,>=2.27->gTTS) (2.0.7)\n",
            "Requirement already satisfied: certifi>=2017.4.17 in /usr/local/lib/python3.10/dist-packages (from requests<3,>=2.27->gTTS) (2023.11.17)\n"
          ]
        }
      ],
      "source": [
        "!pip   install   gTTS"
      ]
    },
    {
      "cell_type": "code",
      "source": [
        "from  gtts   import  gTTS\n",
        "\n",
        "text_to_say=\"Configurer les Paramètres de l\\'Application :Configurez les paramètres de votre application dans le fichier settings.py du projet, en particulier pour la connexion à la base de données et les configurations spécifiques du modèle de diffusion stable.Migrer la Base de Données : Utilisez python manage.py makemigrations et python manage.py migrate pour \"\n",
        "\n",
        "language=\"fr\"\n",
        "\n",
        "gtts_object=gTTS(text=text_to_say, lang=language,slow=False)\n",
        "gtts_object.save(\"/content/gtts2.wav\")"
      ],
      "metadata": {
        "id": "VHsGVw3IhdHN"
      },
      "execution_count": null,
      "outputs": []
    }
  ]
}